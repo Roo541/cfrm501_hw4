{
 "cells": [
  {
   "cell_type": "code",
   "execution_count": 1,
   "metadata": {},
   "outputs": [],
   "source": [
    "import pandas as pd\n",
    "import numpy as np"
   ]
  },
  {
   "cell_type": "code",
   "execution_count": 2,
   "metadata": {},
   "outputs": [],
   "source": [
    "cov = pd.read_csv('annual_cov.csv')"
   ]
  },
  {
   "cell_type": "code",
   "execution_count": 7,
   "metadata": {},
   "outputs": [
    {
     "data": {
      "text/html": [
       "<div>\n",
       "<style scoped>\n",
       "    .dataframe tbody tr th:only-of-type {\n",
       "        vertical-align: middle;\n",
       "    }\n",
       "\n",
       "    .dataframe tbody tr th {\n",
       "        vertical-align: top;\n",
       "    }\n",
       "\n",
       "    .dataframe thead th {\n",
       "        text-align: right;\n",
       "    }\n",
       "</style>\n",
       "<table border=\"1\" class=\"dataframe\">\n",
       "  <thead>\n",
       "    <tr style=\"text-align: right;\">\n",
       "      <th></th>\n",
       "      <th>ticker</th>\n",
       "      <th>gnk</th>\n",
       "      <th>bbby</th>\n",
       "      <th>hcci</th>\n",
       "      <th>skm</th>\n",
       "      <th>cs</th>\n",
       "      <th>azn</th>\n",
       "      <th>nvda</th>\n",
       "      <th>epac</th>\n",
       "    </tr>\n",
       "  </thead>\n",
       "  <tbody>\n",
       "    <tr>\n",
       "      <th>0</th>\n",
       "      <td>gnk</td>\n",
       "      <td>0.690032</td>\n",
       "      <td>0.140960</td>\n",
       "      <td>0.160924</td>\n",
       "      <td>0.034631</td>\n",
       "      <td>0.096489</td>\n",
       "      <td>0.044800</td>\n",
       "      <td>0.147940</td>\n",
       "      <td>0.111476</td>\n",
       "    </tr>\n",
       "    <tr>\n",
       "      <th>1</th>\n",
       "      <td>bbby</td>\n",
       "      <td>0.140960</td>\n",
       "      <td>2.594074</td>\n",
       "      <td>0.180361</td>\n",
       "      <td>0.051857</td>\n",
       "      <td>0.103711</td>\n",
       "      <td>0.026991</td>\n",
       "      <td>0.205861</td>\n",
       "      <td>0.135409</td>\n",
       "    </tr>\n",
       "    <tr>\n",
       "      <th>2</th>\n",
       "      <td>hcci</td>\n",
       "      <td>0.160924</td>\n",
       "      <td>0.180361</td>\n",
       "      <td>0.412413</td>\n",
       "      <td>0.039834</td>\n",
       "      <td>0.099506</td>\n",
       "      <td>0.043296</td>\n",
       "      <td>0.141264</td>\n",
       "      <td>0.120823</td>\n",
       "    </tr>\n",
       "    <tr>\n",
       "      <th>3</th>\n",
       "      <td>skm</td>\n",
       "      <td>0.034631</td>\n",
       "      <td>0.051857</td>\n",
       "      <td>0.039834</td>\n",
       "      <td>0.088998</td>\n",
       "      <td>0.029604</td>\n",
       "      <td>0.017526</td>\n",
       "      <td>0.049475</td>\n",
       "      <td>0.029768</td>\n",
       "    </tr>\n",
       "    <tr>\n",
       "      <th>4</th>\n",
       "      <td>cs</td>\n",
       "      <td>0.096489</td>\n",
       "      <td>0.103711</td>\n",
       "      <td>0.099506</td>\n",
       "      <td>0.029604</td>\n",
       "      <td>0.100117</td>\n",
       "      <td>0.026916</td>\n",
       "      <td>0.098560</td>\n",
       "      <td>0.065451</td>\n",
       "    </tr>\n",
       "    <tr>\n",
       "      <th>5</th>\n",
       "      <td>azn</td>\n",
       "      <td>0.044800</td>\n",
       "      <td>0.026991</td>\n",
       "      <td>0.043296</td>\n",
       "      <td>0.017526</td>\n",
       "      <td>0.026916</td>\n",
       "      <td>0.092751</td>\n",
       "      <td>0.068286</td>\n",
       "      <td>0.027263</td>\n",
       "    </tr>\n",
       "    <tr>\n",
       "      <th>6</th>\n",
       "      <td>nvda</td>\n",
       "      <td>0.147940</td>\n",
       "      <td>0.205861</td>\n",
       "      <td>0.141264</td>\n",
       "      <td>0.049475</td>\n",
       "      <td>0.098560</td>\n",
       "      <td>0.068286</td>\n",
       "      <td>0.559329</td>\n",
       "      <td>0.103007</td>\n",
       "    </tr>\n",
       "    <tr>\n",
       "      <th>7</th>\n",
       "      <td>epac</td>\n",
       "      <td>0.111476</td>\n",
       "      <td>0.135409</td>\n",
       "      <td>0.120823</td>\n",
       "      <td>0.029768</td>\n",
       "      <td>0.065451</td>\n",
       "      <td>0.027263</td>\n",
       "      <td>0.103007</td>\n",
       "      <td>0.159152</td>\n",
       "    </tr>\n",
       "  </tbody>\n",
       "</table>\n",
       "</div>"
      ],
      "text/plain": [
       "  ticker       gnk      bbby      hcci       skm        cs       azn  \\\n",
       "0    gnk  0.690032  0.140960  0.160924  0.034631  0.096489  0.044800   \n",
       "1   bbby  0.140960  2.594074  0.180361  0.051857  0.103711  0.026991   \n",
       "2   hcci  0.160924  0.180361  0.412413  0.039834  0.099506  0.043296   \n",
       "3    skm  0.034631  0.051857  0.039834  0.088998  0.029604  0.017526   \n",
       "4     cs  0.096489  0.103711  0.099506  0.029604  0.100117  0.026916   \n",
       "5    azn  0.044800  0.026991  0.043296  0.017526  0.026916  0.092751   \n",
       "6   nvda  0.147940  0.205861  0.141264  0.049475  0.098560  0.068286   \n",
       "7   epac  0.111476  0.135409  0.120823  0.029768  0.065451  0.027263   \n",
       "\n",
       "       nvda      epac  \n",
       "0  0.147940  0.111476  \n",
       "1  0.205861  0.135409  \n",
       "2  0.141264  0.120823  \n",
       "3  0.049475  0.029768  \n",
       "4  0.098560  0.065451  \n",
       "5  0.068286  0.027263  \n",
       "6  0.559329  0.103007  \n",
       "7  0.103007  0.159152  "
      ]
     },
     "execution_count": 7,
     "metadata": {},
     "output_type": "execute_result"
    }
   ],
   "source": [
    "cov"
   ]
  },
  {
   "cell_type": "code",
   "execution_count": 8,
   "metadata": {},
   "outputs": [],
   "source": [
    "cov = cov.set_index('ticker')"
   ]
  },
  {
   "cell_type": "code",
   "execution_count": 23,
   "metadata": {},
   "outputs": [],
   "source": [
    "a = cov.to_numpy()"
   ]
  },
  {
   "cell_type": "code",
   "execution_count": 24,
   "metadata": {},
   "outputs": [],
   "source": [
    "b = [0,0,0,0,0,0,0,0]"
   ]
  },
  {
   "cell_type": "code",
   "execution_count": 25,
   "metadata": {},
   "outputs": [
    {
     "name": "stderr",
     "output_type": "stream",
     "text": [
      "/var/folders/qs/08lrvdq116j2p_7gkyvmdryw0000gn/T/ipykernel_8088/554651218.py:1: FutureWarning: `rcond` parameter will change to the default of machine precision times ``max(M, N)`` where M and N are the input matrix dimensions.\n",
      "To use the future default and silence this warning we advise to pass `rcond=None`, to keep using the old, explicitly pass `rcond=-1`.\n",
      "  w =np.linalg.lstsq(a, b)\n"
     ]
    }
   ],
   "source": [
    "w =np.linalg.lstsq(a, b)"
   ]
  },
  {
   "cell_type": "code",
   "execution_count": 26,
   "metadata": {},
   "outputs": [
    {
     "data": {
      "text/plain": [
       "(array([0., 0., 0., 0., 0., 0., 0., 0.]),\n",
       " array([], dtype=float64),\n",
       " 8,\n",
       " array([2.66725851, 0.91600682, 0.47074042, 0.32233444, 0.11300637,\n",
       "        0.08447597, 0.07239152, 0.05065153]))"
      ]
     },
     "execution_count": 26,
     "metadata": {},
     "output_type": "execute_result"
    }
   ],
   "source": [
    "w"
   ]
  },
  {
   "cell_type": "code",
   "execution_count": 28,
   "metadata": {},
   "outputs": [
    {
     "data": {
      "text/plain": [
       "array([2.66725851, 0.91600682, 0.47074042, 0.32233444, 0.11300637,\n",
       "       0.08447597, 0.07239152, 0.05065153])"
      ]
     },
     "execution_count": 28,
     "metadata": {},
     "output_type": "execute_result"
    }
   ],
   "source": [
    "w[3]"
   ]
  },
  {
   "cell_type": "code",
   "execution_count": 31,
   "metadata": {},
   "outputs": [],
   "source": [
    "#expected return\n",
    "mean_return = pd.read_csv('sample_mean_daily_vector.csv')"
   ]
  },
  {
   "cell_type": "code",
   "execution_count": 33,
   "metadata": {},
   "outputs": [],
   "source": [
    "mean_return = mean_return.drop(columns=['Unnamed: 0'])"
   ]
  },
  {
   "cell_type": "code",
   "execution_count": 40,
   "metadata": {},
   "outputs": [
    {
     "data": {
      "text/html": [
       "<div>\n",
       "<style scoped>\n",
       "    .dataframe tbody tr th:only-of-type {\n",
       "        vertical-align: middle;\n",
       "    }\n",
       "\n",
       "    .dataframe tbody tr th {\n",
       "        vertical-align: top;\n",
       "    }\n",
       "\n",
       "    .dataframe thead th {\n",
       "        text-align: right;\n",
       "    }\n",
       "</style>\n",
       "<table border=\"1\" class=\"dataframe\">\n",
       "  <thead>\n",
       "    <tr style=\"text-align: right;\">\n",
       "      <th></th>\n",
       "      <th>gnk</th>\n",
       "      <th>bbby</th>\n",
       "      <th>hcci</th>\n",
       "      <th>skm</th>\n",
       "      <th>cs</th>\n",
       "      <th>azn</th>\n",
       "      <th>nvda</th>\n",
       "      <th>epac</th>\n",
       "    </tr>\n",
       "  </thead>\n",
       "  <tbody>\n",
       "    <tr>\n",
       "      <th>0</th>\n",
       "      <td>0.000935</td>\n",
       "      <td>0.000906</td>\n",
       "      <td>0.000732</td>\n",
       "      <td>-0.000369</td>\n",
       "      <td>-0.000758</td>\n",
       "      <td>0.000624</td>\n",
       "      <td>0.001311</td>\n",
       "      <td>0.000008</td>\n",
       "    </tr>\n",
       "  </tbody>\n",
       "</table>\n",
       "</div>"
      ],
      "text/plain": [
       "        gnk      bbby      hcci       skm        cs       azn      nvda  \\\n",
       "0  0.000935  0.000906  0.000732 -0.000369 -0.000758  0.000624  0.001311   \n",
       "\n",
       "       epac  \n",
       "0  0.000008  "
      ]
     },
     "execution_count": 40,
     "metadata": {},
     "output_type": "execute_result"
    }
   ],
   "source": [
    "mean_return"
   ]
  },
  {
   "cell_type": "code",
   "execution_count": 41,
   "metadata": {},
   "outputs": [],
   "source": [
    "r = mean_return.to_numpy()"
   ]
  },
  {
   "cell_type": "code",
   "execution_count": 44,
   "metadata": {},
   "outputs": [],
   "source": [
    "weights = w[3]"
   ]
  },
  {
   "cell_type": "code",
   "execution_count": 45,
   "metadata": {},
   "outputs": [
    {
     "data": {
      "text/plain": [
       "array([2.66725851, 0.91600682, 0.47074042, 0.32233444, 0.11300637,\n",
       "       0.08447597, 0.07239152, 0.05065153])"
      ]
     },
     "execution_count": 45,
     "metadata": {},
     "output_type": "execute_result"
    }
   ],
   "source": [
    "weights"
   ]
  },
  {
   "cell_type": "code",
   "execution_count": 46,
   "metadata": {},
   "outputs": [
    {
     "data": {
      "text/plain": [
       "array([2.66725851, 0.91600682, 0.47074042, 0.32233444, 0.11300637,\n",
       "       0.08447597, 0.07239152, 0.05065153])"
      ]
     },
     "execution_count": 46,
     "metadata": {},
     "output_type": "execute_result"
    }
   ],
   "source": [
    "np.transpose(weights)"
   ]
  },
  {
   "cell_type": "code",
   "execution_count": 75,
   "metadata": {},
   "outputs": [
    {
     "data": {
      "text/plain": [
       "0.003611527652698037"
      ]
     },
     "execution_count": 75,
     "metadata": {},
     "output_type": "execute_result"
    }
   ],
   "source": [
    "r[0].dot(weights)"
   ]
  },
  {
   "cell_type": "code",
   "execution_count": 53,
   "metadata": {},
   "outputs": [
    {
     "name": "stdout",
     "output_type": "stream",
     "text": [
      "2.667258508835549\n",
      "0.9160068240838383\n",
      "0.4707404208022636\n",
      "0.32233444040355497\n",
      "0.11300637465099556\n",
      "0.08447596529791658\n",
      "0.07239152217831189\n",
      "0.05065153126914417\n"
     ]
    }
   ],
   "source": [
    "for i in weights:\n",
    "    print(i)"
   ]
  },
  {
   "cell_type": "code",
   "execution_count": 80,
   "metadata": {},
   "outputs": [
    {
     "name": "stdout",
     "output_type": "stream",
     "text": [
      "0.0009349088039275 2.667258508835549\n",
      "0.0009059668773281 0.9160068240838383\n",
      "0.0007316616912819 0.4707404208022636\n",
      "-0.0003687380085407 0.32233444040355497\n",
      "-0.0007575196479243 0.11300637465099556\n",
      "0.0006242154248758 0.08447596529791658\n",
      "0.0013110541525029 0.07239152217831189\n",
      "8.10870689692216e-06 0.05065153126914417\n"
     ]
    }
   ],
   "source": [
    "summation = 0.00\n",
    "for i in range(len(r[0])):\n",
    "    value = weights[i]*r[0][i]\n",
    "    print(r[0][i], weights[i])\n",
    "    summation += value"
   ]
  },
  {
   "cell_type": "code",
   "execution_count": 81,
   "metadata": {},
   "outputs": [
    {
     "data": {
      "text/plain": [
       "0.003611527652698037"
      ]
     },
     "execution_count": 81,
     "metadata": {},
     "output_type": "execute_result"
    }
   ],
   "source": [
    "summation"
   ]
  },
  {
   "cell_type": "code",
   "execution_count": 82,
   "metadata": {},
   "outputs": [
    {
     "data": {
      "text/plain": [
       "array([2.66725851, 0.91600682, 0.47074042, 0.32233444, 0.11300637,\n",
       "       0.08447597, 0.07239152, 0.05065153])"
      ]
     },
     "execution_count": 82,
     "metadata": {},
     "output_type": "execute_result"
    }
   ],
   "source": [
    "weights"
   ]
  },
  {
   "cell_type": "code",
   "execution_count": 84,
   "metadata": {},
   "outputs": [],
   "source": [
    "a_w = a.dot(weights)"
   ]
  },
  {
   "cell_type": "code",
   "execution_count": 86,
   "metadata": {},
   "outputs": [
    {
     "data": {
      "text/plain": [
       "8.813930526356497"
      ]
     },
     "execution_count": 86,
     "metadata": {},
     "output_type": "execute_result"
    }
   ],
   "source": [
    "a_w.dot(weights)"
   ]
  },
  {
   "cell_type": "code",
   "execution_count": 87,
   "metadata": {},
   "outputs": [
    {
     "data": {
      "text/plain": [
       "8.813930526356497"
      ]
     },
     "execution_count": 87,
     "metadata": {},
     "output_type": "execute_result"
    }
   ],
   "source": [
    "weights.dot(a_w)"
   ]
  },
  {
   "cell_type": "code",
   "execution_count": 88,
   "metadata": {},
   "outputs": [
    {
     "data": {
      "text/plain": [
       "2.968669735757078"
      ]
     },
     "execution_count": 88,
     "metadata": {},
     "output_type": "execute_result"
    }
   ],
   "source": [
    "np.sqrt(8.813)"
   ]
  },
  {
   "cell_type": "code",
   "execution_count": 93,
   "metadata": {},
   "outputs": [
    {
     "data": {
      "text/plain": [
       "array([[2.66725851],\n",
       "       [0.91600682],\n",
       "       [0.47074042],\n",
       "       [0.32233444],\n",
       "       [0.11300637],\n",
       "       [0.08447597],\n",
       "       [0.07239152],\n",
       "       [0.05065153]])"
      ]
     },
     "execution_count": 93,
     "metadata": {},
     "output_type": "execute_result"
    }
   ],
   "source": [
    "weights.transpose().reshape(8,1)"
   ]
  },
  {
   "cell_type": "code",
   "execution_count": 96,
   "metadata": {},
   "outputs": [],
   "source": [
    "gradient = cov_matrix.dot(weights)"
   ]
  },
  {
   "cell_type": "code",
   "execution_count": 97,
   "metadata": {},
   "outputs": [
    {
     "data": {
      "text/plain": [
       "array([2.08757357, 2.8895453 , 0.8326662 , 0.19722614, 0.4327818 ,\n",
       "       0.18744822, 0.72822467, 0.51306015])"
      ]
     },
     "execution_count": 97,
     "metadata": {},
     "output_type": "execute_result"
    }
   ],
   "source": [
    "gradient"
   ]
  },
  {
   "cell_type": "code",
   "execution_count": 99,
   "metadata": {},
   "outputs": [],
   "source": [
    "gradient = gradient.transpose().reshape(8,1)"
   ]
  },
  {
   "cell_type": "code",
   "execution_count": 100,
   "metadata": {},
   "outputs": [
    {
     "data": {
      "text/plain": [
       "array([[2.08757357],\n",
       "       [2.8895453 ],\n",
       "       [0.8326662 ],\n",
       "       [0.19722614],\n",
       "       [0.4327818 ],\n",
       "       [0.18744822],\n",
       "       [0.72822467],\n",
       "       [0.51306015]])"
      ]
     },
     "execution_count": 100,
     "metadata": {},
     "output_type": "execute_result"
    }
   ],
   "source": [
    "gradient"
   ]
  },
  {
   "cell_type": "code",
   "execution_count": null,
   "metadata": {},
   "outputs": [],
   "source": []
  }
 ],
 "metadata": {
  "kernelspec": {
   "display_name": "Python 3.10.2 64-bit",
   "language": "python",
   "name": "python3"
  },
  "language_info": {
   "codemirror_mode": {
    "name": "ipython",
    "version": 3
   },
   "file_extension": ".py",
   "mimetype": "text/x-python",
   "name": "python",
   "nbconvert_exporter": "python",
   "pygments_lexer": "ipython3",
   "version": "3.10.2"
  },
  "orig_nbformat": 4,
  "vscode": {
   "interpreter": {
    "hash": "aee8b7b246df8f9039afb4144a1f6fd8d2ca17a180786b69acc140d282b71a49"
   }
  }
 },
 "nbformat": 4,
 "nbformat_minor": 2
}
