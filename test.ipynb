{
 "cells": [
  {
   "cell_type": "code",
   "execution_count": 1,
   "metadata": {},
   "outputs": [],
   "source": [
    "import numpy as np\n",
    "import pandas as pd"
   ]
  },
  {
   "cell_type": "code",
   "execution_count": 2,
   "metadata": {},
   "outputs": [],
   "source": [
    "cov = pd.read_csv('covariance_matrix.csv')"
   ]
  },
  {
   "cell_type": "code",
   "execution_count": 3,
   "metadata": {},
   "outputs": [],
   "source": [
    "cov = cov.drop(columns = 'Unnamed: 0')"
   ]
  },
  {
   "cell_type": "code",
   "execution_count": 4,
   "metadata": {},
   "outputs": [],
   "source": [
    "cov = cov.set_index('ticker')"
   ]
  },
  {
   "cell_type": "code",
   "execution_count": 5,
   "metadata": {},
   "outputs": [
    {
     "data": {
      "text/html": [
       "<div>\n",
       "<style scoped>\n",
       "    .dataframe tbody tr th:only-of-type {\n",
       "        vertical-align: middle;\n",
       "    }\n",
       "\n",
       "    .dataframe tbody tr th {\n",
       "        vertical-align: top;\n",
       "    }\n",
       "\n",
       "    .dataframe thead th {\n",
       "        text-align: right;\n",
       "    }\n",
       "</style>\n",
       "<table border=\"1\" class=\"dataframe\">\n",
       "  <thead>\n",
       "    <tr style=\"text-align: right;\">\n",
       "      <th></th>\n",
       "      <th>gnk</th>\n",
       "      <th>bbby</th>\n",
       "      <th>hcci</th>\n",
       "      <th>skm</th>\n",
       "      <th>cs</th>\n",
       "      <th>azn</th>\n",
       "      <th>nvda</th>\n",
       "      <th>epac</th>\n",
       "    </tr>\n",
       "    <tr>\n",
       "      <th>ticker</th>\n",
       "      <th></th>\n",
       "      <th></th>\n",
       "      <th></th>\n",
       "      <th></th>\n",
       "      <th></th>\n",
       "      <th></th>\n",
       "      <th></th>\n",
       "      <th></th>\n",
       "    </tr>\n",
       "  </thead>\n",
       "  <tbody>\n",
       "    <tr>\n",
       "      <th>gnk</th>\n",
       "      <td>21.564393</td>\n",
       "      <td>7.283269</td>\n",
       "      <td>12.309294</td>\n",
       "      <td>-5.756283</td>\n",
       "      <td>-3.699479</td>\n",
       "      <td>27.328256</td>\n",
       "      <td>221.423515</td>\n",
       "      <td>0.750847</td>\n",
       "    </tr>\n",
       "    <tr>\n",
       "      <th>bbby</th>\n",
       "      <td>7.283269</td>\n",
       "      <td>44.376124</td>\n",
       "      <td>6.575031</td>\n",
       "      <td>31.690628</td>\n",
       "      <td>6.925745</td>\n",
       "      <td>2.598469</td>\n",
       "      <td>161.594026</td>\n",
       "      <td>10.816461</td>\n",
       "    </tr>\n",
       "    <tr>\n",
       "      <th>hcci</th>\n",
       "      <td>12.309294</td>\n",
       "      <td>6.575031</td>\n",
       "      <td>26.081377</td>\n",
       "      <td>1.718098</td>\n",
       "      <td>-4.050318</td>\n",
       "      <td>23.609858</td>\n",
       "      <td>173.503340</td>\n",
       "      <td>3.149061</td>\n",
       "    </tr>\n",
       "    <tr>\n",
       "      <th>skm</th>\n",
       "      <td>-5.756283</td>\n",
       "      <td>31.690628</td>\n",
       "      <td>1.718098</td>\n",
       "      <td>61.874360</td>\n",
       "      <td>12.740018</td>\n",
       "      <td>-35.854970</td>\n",
       "      <td>-68.128635</td>\n",
       "      <td>16.797741</td>\n",
       "    </tr>\n",
       "    <tr>\n",
       "      <th>cs</th>\n",
       "      <td>-3.699479</td>\n",
       "      <td>6.925745</td>\n",
       "      <td>-4.050318</td>\n",
       "      <td>12.740018</td>\n",
       "      <td>7.906414</td>\n",
       "      <td>-24.945692</td>\n",
       "      <td>-104.830401</td>\n",
       "      <td>5.756062</td>\n",
       "    </tr>\n",
       "    <tr>\n",
       "      <th>azn</th>\n",
       "      <td>27.328256</td>\n",
       "      <td>2.598469</td>\n",
       "      <td>23.609858</td>\n",
       "      <td>-35.854970</td>\n",
       "      <td>-24.945692</td>\n",
       "      <td>128.789432</td>\n",
       "      <td>683.651436</td>\n",
       "      <td>-17.271940</td>\n",
       "    </tr>\n",
       "    <tr>\n",
       "      <th>nvda</th>\n",
       "      <td>221.423515</td>\n",
       "      <td>161.594026</td>\n",
       "      <td>173.503340</td>\n",
       "      <td>-68.128635</td>\n",
       "      <td>-104.830401</td>\n",
       "      <td>683.651436</td>\n",
       "      <td>5460.240278</td>\n",
       "      <td>-67.170234</td>\n",
       "    </tr>\n",
       "    <tr>\n",
       "      <th>epac</th>\n",
       "      <td>0.750847</td>\n",
       "      <td>10.816461</td>\n",
       "      <td>3.149061</td>\n",
       "      <td>16.797741</td>\n",
       "      <td>5.756062</td>\n",
       "      <td>-17.271940</td>\n",
       "      <td>-67.170234</td>\n",
       "      <td>10.197614</td>\n",
       "    </tr>\n",
       "  </tbody>\n",
       "</table>\n",
       "</div>"
      ],
      "text/plain": [
       "               gnk        bbby        hcci        skm          cs         azn  \\\n",
       "ticker                                                                          \n",
       "gnk      21.564393    7.283269   12.309294  -5.756283   -3.699479   27.328256   \n",
       "bbby      7.283269   44.376124    6.575031  31.690628    6.925745    2.598469   \n",
       "hcci     12.309294    6.575031   26.081377   1.718098   -4.050318   23.609858   \n",
       "skm      -5.756283   31.690628    1.718098  61.874360   12.740018  -35.854970   \n",
       "cs       -3.699479    6.925745   -4.050318  12.740018    7.906414  -24.945692   \n",
       "azn      27.328256    2.598469   23.609858 -35.854970  -24.945692  128.789432   \n",
       "nvda    221.423515  161.594026  173.503340 -68.128635 -104.830401  683.651436   \n",
       "epac      0.750847   10.816461    3.149061  16.797741    5.756062  -17.271940   \n",
       "\n",
       "               nvda       epac  \n",
       "ticker                          \n",
       "gnk      221.423515   0.750847  \n",
       "bbby     161.594026  10.816461  \n",
       "hcci     173.503340   3.149061  \n",
       "skm      -68.128635  16.797741  \n",
       "cs      -104.830401   5.756062  \n",
       "azn      683.651436 -17.271940  \n",
       "nvda    5460.240278 -67.170234  \n",
       "epac     -67.170234  10.197614  "
      ]
     },
     "execution_count": 5,
     "metadata": {},
     "output_type": "execute_result"
    }
   ],
   "source": [
    "cov"
   ]
  },
  {
   "cell_type": "code",
   "execution_count": 6,
   "metadata": {},
   "outputs": [
    {
     "data": {
      "text/plain": [
       "7.283268624743325"
      ]
     },
     "execution_count": 6,
     "metadata": {},
     "output_type": "execute_result"
    }
   ],
   "source": [
    "cov['gnk']['bbby']"
   ]
  },
  {
   "cell_type": "code",
   "execution_count": 7,
   "metadata": {},
   "outputs": [],
   "source": [
    "tickers = cov.keys()\n",
    "mean_vector = pd.read_csv('sample_mean_daily_vector.csv')"
   ]
  },
  {
   "cell_type": "code",
   "execution_count": 8,
   "metadata": {},
   "outputs": [
    {
     "data": {
      "text/html": [
       "<div>\n",
       "<style scoped>\n",
       "    .dataframe tbody tr th:only-of-type {\n",
       "        vertical-align: middle;\n",
       "    }\n",
       "\n",
       "    .dataframe tbody tr th {\n",
       "        vertical-align: top;\n",
       "    }\n",
       "\n",
       "    .dataframe thead th {\n",
       "        text-align: right;\n",
       "    }\n",
       "</style>\n",
       "<table border=\"1\" class=\"dataframe\">\n",
       "  <thead>\n",
       "    <tr style=\"text-align: right;\">\n",
       "      <th></th>\n",
       "      <th>Unnamed: 0</th>\n",
       "      <th>gnk</th>\n",
       "      <th>bbby</th>\n",
       "      <th>hcci</th>\n",
       "      <th>skm</th>\n",
       "      <th>cs</th>\n",
       "      <th>azn</th>\n",
       "      <th>nvda</th>\n",
       "      <th>epac</th>\n",
       "    </tr>\n",
       "  </thead>\n",
       "  <tbody>\n",
       "    <tr>\n",
       "      <th>0</th>\n",
       "      <td>0</td>\n",
       "      <td>0.000935</td>\n",
       "      <td>0.000906</td>\n",
       "      <td>0.000732</td>\n",
       "      <td>-0.000369</td>\n",
       "      <td>-0.000758</td>\n",
       "      <td>0.000624</td>\n",
       "      <td>0.001311</td>\n",
       "      <td>0.000008</td>\n",
       "    </tr>\n",
       "  </tbody>\n",
       "</table>\n",
       "</div>"
      ],
      "text/plain": [
       "   Unnamed: 0       gnk      bbby      hcci       skm        cs       azn  \\\n",
       "0           0  0.000935  0.000906  0.000732 -0.000369 -0.000758  0.000624   \n",
       "\n",
       "       nvda      epac  \n",
       "0  0.001311  0.000008  "
      ]
     },
     "execution_count": 8,
     "metadata": {},
     "output_type": "execute_result"
    }
   ],
   "source": [
    "mean_vector"
   ]
  },
  {
   "cell_type": "code",
   "execution_count": 9,
   "metadata": {},
   "outputs": [],
   "source": [
    "mean_vector = mean_vector.drop(columns = 'Unnamed: 0')"
   ]
  },
  {
   "cell_type": "code",
   "execution_count": 12,
   "metadata": {},
   "outputs": [
    {
     "name": "stdout",
     "output_type": "stream",
     "text": [
      "gnk\n",
      "gnk\n",
      "bbby\n",
      "gnk\n",
      "hcci\n",
      "gnk\n",
      "skm\n",
      "gnk\n",
      "cs\n",
      "gnk\n",
      "azn\n",
      "gnk\n",
      "nvda\n",
      "gnk\n",
      "epac\n",
      "gnk\n"
     ]
    }
   ],
   "source": [
    "for j in cov.keys():\n",
    "    mu_j = mean_vector[j][0]    # the columns\n",
    "    print(j)\n",
    "    for i in tickers:\n",
    "        print(i)\n",
    "        mu_i = mean_vector[i][0]    #the rows\n",
    "        break\n",
    "        "
   ]
  },
  {
   "cell_type": "code",
   "execution_count": 11,
   "metadata": {},
   "outputs": [
    {
     "data": {
      "text/plain": [
       "0.0009349088039275"
      ]
     },
     "execution_count": 11,
     "metadata": {},
     "output_type": "execute_result"
    }
   ],
   "source": [
    "mu_i"
   ]
  },
  {
   "cell_type": "code",
   "execution_count": null,
   "metadata": {},
   "outputs": [],
   "source": []
  }
 ],
 "metadata": {
  "interpreter": {
   "hash": "aee8b7b246df8f9039afb4144a1f6fd8d2ca17a180786b69acc140d282b71a49"
  },
  "kernelspec": {
   "display_name": "Python 3.10.0 64-bit",
   "name": "python3"
  },
  "language_info": {
   "codemirror_mode": {
    "name": "ipython",
    "version": 3
   },
   "file_extension": ".py",
   "mimetype": "text/x-python",
   "name": "python",
   "nbconvert_exporter": "python",
   "pygments_lexer": "ipython3",
   "version": "3.10.0"
  },
  "orig_nbformat": 4
 },
 "nbformat": 4,
 "nbformat_minor": 2
}
